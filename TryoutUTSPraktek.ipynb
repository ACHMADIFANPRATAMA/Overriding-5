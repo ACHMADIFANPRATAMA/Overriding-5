{
  "nbformat": 4,
  "nbformat_minor": 0,
  "metadata": {
    "colab": {
      "provenance": [],
      "include_colab_link": true
    },
    "kernelspec": {
      "name": "python3",
      "display_name": "Python 3"
    },
    "language_info": {
      "name": "python"
    }
  },
  "cells": [
    {
      "cell_type": "markdown",
      "metadata": {
        "id": "view-in-github",
        "colab_type": "text"
      },
      "source": [
        "<a href=\"https://colab.research.google.com/github/ACHMADIFANPRATAMA/Overriding-5/blob/main/TryoutUTSPraktek.ipynb\" target=\"_parent\"><img src=\"https://colab.research.google.com/assets/colab-badge.svg\" alt=\"Open In Colab\"/></a>"
      ]
    },
    {
      "cell_type": "markdown",
      "source": [
        "Anda adalah seorang ilmuwan lingkungan yang bekerja dalam penelitian organisme di berbagai ekosistem. Anda memiliki kelas dasar Organisme dengan atribut berikut:\n",
        "\n",
        "*   nama (nama organisme)\n",
        "*   jenis (jenis organisme, misalnya, tumbuhan, hewan, mikroba, dll.)\n",
        "\n",
        "Selain itu, Anda memiliki dua jenis organisme spesifik: **Tumbuhan** dan **Hewan**.\n",
        "\n",
        "Tumbuhan memiliki atribut tambahan yaitu lokasi (lokasi tumbuhan ditemukan, misalnya, hutan, sungai, dll.)\n",
        "\n",
        "Sementara Hewan memiliki atribut tambahan yaitu makanan (jenis makanan yang dikonsumsi hewan, misalnya, herbivora, karnivora, omnivora, dll.)\n",
        "\n",
        "\n",
        "Anda ditugaskan membuat program Python yang memungkinkan Anda untuk mencetak informasi tentang setiap organisme, termasuk nama, jenis, serta atribut tambahan yang sesuai (lokasi atau jenis makanan)."
      ],
      "metadata": {
        "id": "Xcnm52jtL9YY"
      }
    },
    {
      "cell_type": "code",
      "execution_count": 31,
      "metadata": {
        "id": "9pLv2WhSLUZc"
      },
      "outputs": [],
      "source": [
        "\n",
        "#Achmad Ifan Pratama XI Rpl 1\n",
        "class Organisme:\n",
        "  #Buat class Organisme disini\n",
        "  def __init__(self ,nama, jenis):\n",
        "    self.nama = nama\n",
        "    self.jenis = jenis\n",
        "\n",
        "  #fungsi yang nantinya menamlikan informasi\n",
        "  def informasi(self):\n",
        "    print(f\"nama : {self.nama}\")\n",
        "    print(f\"nama : {self.nama}\")"
      ]
    },
    {
      "cell_type": "code",
      "source": [
        "class Tumbuhan(Organisme):\n",
        "  #Buat class Tumbuhan disini\n",
        "  def __init__(self, nama, jenis, lokasi):\n",
        "    super().__init__(nama, jenis)\n",
        "    self.lokasi = lokasi\n",
        "\n",
        "  #membuat fungsi informasi yang sama dengan class organisme dan menambahkan informasi yang menampilkan lokasi\n",
        "  def informasi(self):\n",
        "    super().informasi()\n",
        "    print(f\"lokasi : {self .lokasi}\")"
      ],
      "metadata": {
        "id": "aZ-2FjdaObMu"
      },
      "execution_count": 32,
      "outputs": []
    },
    {
      "cell_type": "code",
      "source": [
        "class Hewan(Organisme):\n",
        "  #Buat class Hewan disini\n",
        "  def __init__(self, nama, jenis, makanan):\n",
        "    super().__init__(nama, jenis)\n",
        "    self.makanan = makanan\n",
        "\n",
        "  #membuat fungsi informasi yang sama dengan class organisme dan menambahkan informasi yang menampilkan lokasi\n",
        "  def informasi(self):\n",
        "    super().informasi()\n",
        "    print(f\"makanan : {self .makanan}\")"
      ],
      "metadata": {
        "id": "ItwqUUUjOdp4"
      },
      "execution_count": 27,
      "outputs": []
    },
    {
      "cell_type": "code",
      "source": [
        "\n",
        "#Buat program disini untuk menggunakan class-class di atas dan menampilkan informasi\n",
        "#menjalankan program dari class Tumbuhan di atas serta menampilkan informasi nya\n",
        "tumbuhan1 = Tumbuhan(\"Mawar\",\"Tumbuhan Perdu\",\"Kebun\")\n",
        "tumbuhan2 = Tumbuhan(\"Raflesia Arnoldi\",\"Tumbuhan Holoparasit\",\"Hutan\")\n",
        "\n",
        "##menjalankan program dari class Hewan di atas serta menampilkan informasi nya\n",
        "hewan1 = Hewan(\"Ayam\",\"Hewan Ternak\",\"Peternakan\")\n",
        "hewan2 = Hewan(\"Ular\",\"Hewan Liar\",\"Sungai\")\n",
        "\n",
        "#menjalankan fungsi infromasi dari class Tumbuhan\n",
        "print(\"Informasi Penelelitian :\")\n",
        "tumbuhan1.informasi()\n",
        "print(\"\")\n",
        "print(\"Informasi Penelelitian :\")\n",
        "tumbuhan2.informasi()\n",
        "print(\"\")\n",
        "print(\"Informasi Penelelitian :\")\n",
        "hewan1.informasi()\n",
        "print(\"\")\n",
        "print(\"Informasi Penelelitian :\")\n",
        "hewan2.informasi()"
      ],
      "metadata": {
        "id": "gWi4_l0gOe-8",
        "outputId": "2f86432d-5b2f-4b19-fa29-4768ef3ff834",
        "colab": {
          "base_uri": "https://localhost:8080/"
        }
      },
      "execution_count": 33,
      "outputs": [
        {
          "output_type": "stream",
          "name": "stdout",
          "text": [
            "Informasi Penelelitian :\n",
            "nama : Mawar\n",
            "nama : Mawar\n",
            "lokasi : Kebun\n",
            "\n",
            "Informasi Penelelitian :\n",
            "nama : Raflesia Arnoldi\n",
            "nama : Raflesia Arnoldi\n",
            "lokasi : Hutan\n",
            "\n",
            "Informasi Penelelitian :\n",
            "nama : Ayam\n",
            "nama : Ayam\n",
            "makanan : Peternakan\n",
            "\n",
            "Informasi Penelelitian :\n",
            "nama : Ular\n",
            "nama : Ular\n",
            "makanan : Sungai\n"
          ]
        }
      ]
    },
    {
      "cell_type": "markdown",
      "source": [
        "# Penjelasan:\n",
        "\n",
        "Class ........... adalah kelas induk dengan atribut **..........** dan **.........**. Fungsi **................** dalam kelas ini mencetak informasi umum tentang organisme.\n",
        "\n",
        "Class **Tumbuhan** ............... class Organisme dan memiliki ........... tambahan **lokasi**. Fungsi **............** dalam class ini memanggil fungsi **...........** dari class dasar (super().deskripsi()) dan mencetak informasi tambahan tentang tumbuhan, yaitu **...........**.\n",
        "\n",
        "Class **Hewan** juga mewarisi dari class **.............** dan memiliki ........ ......... **makanan**. Fungsi **..............** dalam class ini juga memanggil ......... ......... dari ......... ......... dan mencetak informasi tambahan tentang ......., yaitu **..........**"
      ],
      "metadata": {
        "id": "2xAfWE4hMnGD"
      }
    }
  ]
}